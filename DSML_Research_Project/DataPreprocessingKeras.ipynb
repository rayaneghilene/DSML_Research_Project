{
 "cells": [
  {
   "cell_type": "code",
   "execution_count": 48,
   "metadata": {},
   "outputs": [
    {
     "name": "stdout",
     "output_type": "stream",
     "text": [
      "Requirement already satisfied: nltk in /usr/local/python/3.10.8/lib/python3.10/site-packages (3.8.1)\n",
      "Requirement already satisfied: click in /usr/local/python/3.10.8/lib/python3.10/site-packages (from nltk) (8.1.7)\n",
      "Requirement already satisfied: joblib in /home/codespace/.local/lib/python3.10/site-packages (from nltk) (1.3.2)\n",
      "Requirement already satisfied: regex>=2021.8.3 in /usr/local/python/3.10.8/lib/python3.10/site-packages (from nltk) (2023.10.3)\n",
      "Requirement already satisfied: tqdm in /usr/local/python/3.10.8/lib/python3.10/site-packages (from nltk) (4.66.1)\n",
      "Note: you may need to restart the kernel to use updated packages.\n",
      "Requirement already satisfied: keras in /usr/local/python/3.10.8/lib/python3.10/site-packages (2.14.0)\n",
      "Note: you may need to restart the kernel to use updated packages.\n",
      "Requirement already satisfied: tensorflow in /usr/local/python/3.10.8/lib/python3.10/site-packages (2.14.0)\n",
      "Requirement already satisfied: absl-py>=1.0.0 in /usr/local/python/3.10.8/lib/python3.10/site-packages (from tensorflow) (2.0.0)\n",
      "Requirement already satisfied: astunparse>=1.6.0 in /usr/local/python/3.10.8/lib/python3.10/site-packages (from tensorflow) (1.6.3)\n",
      "Requirement already satisfied: flatbuffers>=23.5.26 in /usr/local/python/3.10.8/lib/python3.10/site-packages (from tensorflow) (23.5.26)\n",
      "Requirement already satisfied: gast!=0.5.0,!=0.5.1,!=0.5.2,>=0.2.1 in /usr/local/python/3.10.8/lib/python3.10/site-packages (from tensorflow) (0.5.4)\n",
      "Requirement already satisfied: google-pasta>=0.1.1 in /usr/local/python/3.10.8/lib/python3.10/site-packages (from tensorflow) (0.2.0)\n",
      "Requirement already satisfied: h5py>=2.9.0 in /usr/local/python/3.10.8/lib/python3.10/site-packages (from tensorflow) (3.10.0)\n",
      "Requirement already satisfied: libclang>=13.0.0 in /usr/local/python/3.10.8/lib/python3.10/site-packages (from tensorflow) (16.0.6)\n",
      "Requirement already satisfied: ml-dtypes==0.2.0 in /usr/local/python/3.10.8/lib/python3.10/site-packages (from tensorflow) (0.2.0)\n",
      "Requirement already satisfied: numpy>=1.23.5 in /home/codespace/.local/lib/python3.10/site-packages (from tensorflow) (1.26.0)\n",
      "Requirement already satisfied: opt-einsum>=2.3.2 in /usr/local/python/3.10.8/lib/python3.10/site-packages (from tensorflow) (3.3.0)\n",
      "Requirement already satisfied: packaging in /home/codespace/.local/lib/python3.10/site-packages (from tensorflow) (23.2)\n",
      "Requirement already satisfied: protobuf!=4.21.0,!=4.21.1,!=4.21.2,!=4.21.3,!=4.21.4,!=4.21.5,<5.0.0dev,>=3.20.3 in /usr/local/python/3.10.8/lib/python3.10/site-packages (from tensorflow) (4.24.4)\n",
      "Requirement already satisfied: setuptools in /usr/local/python/3.10.8/lib/python3.10/site-packages (from tensorflow) (68.0.0)\n",
      "Requirement already satisfied: six>=1.12.0 in /home/codespace/.local/lib/python3.10/site-packages (from tensorflow) (1.16.0)\n",
      "Requirement already satisfied: termcolor>=1.1.0 in /usr/local/python/3.10.8/lib/python3.10/site-packages (from tensorflow) (2.3.0)\n",
      "Requirement already satisfied: typing-extensions>=3.6.6 in /home/codespace/.local/lib/python3.10/site-packages (from tensorflow) (4.8.0)\n",
      "Requirement already satisfied: wrapt<1.15,>=1.11.0 in /usr/local/python/3.10.8/lib/python3.10/site-packages (from tensorflow) (1.14.1)\n",
      "Requirement already satisfied: tensorflow-io-gcs-filesystem>=0.23.1 in /usr/local/python/3.10.8/lib/python3.10/site-packages (from tensorflow) (0.34.0)\n",
      "Requirement already satisfied: grpcio<2.0,>=1.24.3 in /usr/local/python/3.10.8/lib/python3.10/site-packages (from tensorflow) (1.59.0)\n",
      "Requirement already satisfied: tensorboard<2.15,>=2.14 in /usr/local/python/3.10.8/lib/python3.10/site-packages (from tensorflow) (2.14.1)\n",
      "Requirement already satisfied: tensorflow-estimator<2.15,>=2.14.0 in /usr/local/python/3.10.8/lib/python3.10/site-packages (from tensorflow) (2.14.0)\n",
      "Requirement already satisfied: keras<2.15,>=2.14.0 in /usr/local/python/3.10.8/lib/python3.10/site-packages (from tensorflow) (2.14.0)\n",
      "Requirement already satisfied: wheel<1.0,>=0.23.0 in /usr/local/python/3.10.8/lib/python3.10/site-packages (from astunparse>=1.6.0->tensorflow) (0.41.2)\n",
      "Requirement already satisfied: google-auth<3,>=1.6.3 in /usr/local/python/3.10.8/lib/python3.10/site-packages (from tensorboard<2.15,>=2.14->tensorflow) (2.23.3)\n",
      "Requirement already satisfied: google-auth-oauthlib<1.1,>=0.5 in /usr/local/python/3.10.8/lib/python3.10/site-packages (from tensorboard<2.15,>=2.14->tensorflow) (1.0.0)\n",
      "Requirement already satisfied: markdown>=2.6.8 in /usr/local/python/3.10.8/lib/python3.10/site-packages (from tensorboard<2.15,>=2.14->tensorflow) (3.5)\n",
      "Requirement already satisfied: requests<3,>=2.21.0 in /home/codespace/.local/lib/python3.10/site-packages (from tensorboard<2.15,>=2.14->tensorflow) (2.31.0)\n",
      "Requirement already satisfied: tensorboard-data-server<0.8.0,>=0.7.0 in /usr/local/python/3.10.8/lib/python3.10/site-packages (from tensorboard<2.15,>=2.14->tensorflow) (0.7.1)\n",
      "Requirement already satisfied: werkzeug>=1.0.1 in /usr/local/python/3.10.8/lib/python3.10/site-packages (from tensorboard<2.15,>=2.14->tensorflow) (3.0.0)\n",
      "Requirement already satisfied: cachetools<6.0,>=2.0.0 in /usr/local/python/3.10.8/lib/python3.10/site-packages (from google-auth<3,>=1.6.3->tensorboard<2.15,>=2.14->tensorflow) (5.3.1)\n",
      "Requirement already satisfied: pyasn1-modules>=0.2.1 in /usr/local/python/3.10.8/lib/python3.10/site-packages (from google-auth<3,>=1.6.3->tensorboard<2.15,>=2.14->tensorflow) (0.3.0)\n",
      "Requirement already satisfied: rsa<5,>=3.1.4 in /usr/local/python/3.10.8/lib/python3.10/site-packages (from google-auth<3,>=1.6.3->tensorboard<2.15,>=2.14->tensorflow) (4.9)\n",
      "Requirement already satisfied: requests-oauthlib>=0.7.0 in /usr/local/python/3.10.8/lib/python3.10/site-packages (from google-auth-oauthlib<1.1,>=0.5->tensorboard<2.15,>=2.14->tensorflow) (1.3.1)\n",
      "Requirement already satisfied: charset-normalizer<4,>=2 in /home/codespace/.local/lib/python3.10/site-packages (from requests<3,>=2.21.0->tensorboard<2.15,>=2.14->tensorflow) (3.3.0)\n",
      "Requirement already satisfied: idna<4,>=2.5 in /home/codespace/.local/lib/python3.10/site-packages (from requests<3,>=2.21.0->tensorboard<2.15,>=2.14->tensorflow) (3.4)\n",
      "Requirement already satisfied: urllib3<3,>=1.21.1 in /home/codespace/.local/lib/python3.10/site-packages (from requests<3,>=2.21.0->tensorboard<2.15,>=2.14->tensorflow) (2.0.6)\n",
      "Requirement already satisfied: certifi>=2017.4.17 in /home/codespace/.local/lib/python3.10/site-packages (from requests<3,>=2.21.0->tensorboard<2.15,>=2.14->tensorflow) (2023.7.22)\n",
      "Requirement already satisfied: MarkupSafe>=2.1.1 in /home/codespace/.local/lib/python3.10/site-packages (from werkzeug>=1.0.1->tensorboard<2.15,>=2.14->tensorflow) (2.1.3)\n",
      "Requirement already satisfied: pyasn1<0.6.0,>=0.4.6 in /usr/local/python/3.10.8/lib/python3.10/site-packages (from pyasn1-modules>=0.2.1->google-auth<3,>=1.6.3->tensorboard<2.15,>=2.14->tensorflow) (0.5.0)\n",
      "Requirement already satisfied: oauthlib>=3.0.0 in /usr/local/python/3.10.8/lib/python3.10/site-packages (from requests-oauthlib>=0.7.0->google-auth-oauthlib<1.1,>=0.5->tensorboard<2.15,>=2.14->tensorflow) (3.2.2)\n",
      "Note: you may need to restart the kernel to use updated packages.\n",
      "Requirement already satisfied: tensorflow_hub in /usr/local/python/3.10.8/lib/python3.10/site-packages (0.15.0)\n",
      "Requirement already satisfied: numpy>=1.12.0 in /home/codespace/.local/lib/python3.10/site-packages (from tensorflow_hub) (1.26.0)\n",
      "Requirement already satisfied: protobuf>=3.19.6 in /usr/local/python/3.10.8/lib/python3.10/site-packages (from tensorflow_hub) (4.24.4)\n",
      "Note: you may need to restart the kernel to use updated packages.\n",
      "Requirement already satisfied: transformers in /usr/local/python/3.10.8/lib/python3.10/site-packages (4.34.0)\n",
      "Requirement already satisfied: filelock in /home/codespace/.local/lib/python3.10/site-packages (from transformers) (3.12.4)\n",
      "Requirement already satisfied: huggingface-hub<1.0,>=0.16.4 in /usr/local/python/3.10.8/lib/python3.10/site-packages (from transformers) (0.17.3)\n",
      "Requirement already satisfied: numpy>=1.17 in /home/codespace/.local/lib/python3.10/site-packages (from transformers) (1.26.0)\n",
      "Requirement already satisfied: packaging>=20.0 in /home/codespace/.local/lib/python3.10/site-packages (from transformers) (23.2)\n",
      "Requirement already satisfied: pyyaml>=5.1 in /home/codespace/.local/lib/python3.10/site-packages (from transformers) (6.0.1)\n",
      "Requirement already satisfied: regex!=2019.12.17 in /usr/local/python/3.10.8/lib/python3.10/site-packages (from transformers) (2023.10.3)\n",
      "Requirement already satisfied: requests in /home/codespace/.local/lib/python3.10/site-packages (from transformers) (2.31.0)\n",
      "Requirement already satisfied: tokenizers<0.15,>=0.14 in /usr/local/python/3.10.8/lib/python3.10/site-packages (from transformers) (0.14.1)\n",
      "Requirement already satisfied: safetensors>=0.3.1 in /usr/local/python/3.10.8/lib/python3.10/site-packages (from transformers) (0.4.0)\n",
      "Requirement already satisfied: tqdm>=4.27 in /usr/local/python/3.10.8/lib/python3.10/site-packages (from transformers) (4.66.1)\n",
      "Requirement already satisfied: fsspec in /home/codespace/.local/lib/python3.10/site-packages (from huggingface-hub<1.0,>=0.16.4->transformers) (2023.9.2)\n",
      "Requirement already satisfied: typing-extensions>=3.7.4.3 in /home/codespace/.local/lib/python3.10/site-packages (from huggingface-hub<1.0,>=0.16.4->transformers) (4.8.0)\n",
      "Requirement already satisfied: charset-normalizer<4,>=2 in /home/codespace/.local/lib/python3.10/site-packages (from requests->transformers) (3.3.0)\n",
      "Requirement already satisfied: idna<4,>=2.5 in /home/codespace/.local/lib/python3.10/site-packages (from requests->transformers) (3.4)\n",
      "Requirement already satisfied: urllib3<3,>=1.21.1 in /home/codespace/.local/lib/python3.10/site-packages (from requests->transformers) (2.0.6)\n",
      "Requirement already satisfied: certifi>=2017.4.17 in /home/codespace/.local/lib/python3.10/site-packages (from requests->transformers) (2023.7.22)\n",
      "Note: you may need to restart the kernel to use updated packages.\n"
     ]
    }
   ],
   "source": [
    "%pip install nltk\n",
    "%pip install keras\n",
    "%pip install tensorflow\n",
    "%pip install tensorflow_hub\n",
    "%pip install transformers"
   ]
  },
  {
   "cell_type": "code",
   "execution_count": 2,
   "metadata": {},
   "outputs": [
    {
     "name": "stderr",
     "output_type": "stream",
     "text": [
      "2023-10-12 21:46:23.998493: I tensorflow/tsl/cuda/cudart_stub.cc:28] Could not find cuda drivers on your machine, GPU will not be used.\n",
      "2023-10-12 21:46:24.032510: E tensorflow/compiler/xla/stream_executor/cuda/cuda_dnn.cc:9342] Unable to register cuDNN factory: Attempting to register factory for plugin cuDNN when one has already been registered\n",
      "2023-10-12 21:46:24.032551: E tensorflow/compiler/xla/stream_executor/cuda/cuda_fft.cc:609] Unable to register cuFFT factory: Attempting to register factory for plugin cuFFT when one has already been registered\n",
      "2023-10-12 21:46:24.032584: E tensorflow/compiler/xla/stream_executor/cuda/cuda_blas.cc:1518] Unable to register cuBLAS factory: Attempting to register factory for plugin cuBLAS when one has already been registered\n",
      "2023-10-12 21:46:24.039448: I tensorflow/tsl/cuda/cudart_stub.cc:28] Could not find cuda drivers on your machine, GPU will not be used.\n",
      "2023-10-12 21:46:24.040364: I tensorflow/core/platform/cpu_feature_guard.cc:182] This TensorFlow binary is optimized to use available CPU instructions in performance-critical operations.\n",
      "To enable the following instructions: AVX2 FMA, in other operations, rebuild TensorFlow with the appropriate compiler flags.\n",
      "2023-10-12 21:46:25.101923: W tensorflow/compiler/tf2tensorrt/utils/py_utils.cc:38] TF-TRT Warning: Could not find TensorRT\n"
     ]
    }
   ],
   "source": [
    "import pandas as pd\n",
    "import numpy as np\n",
    "import tensorflow as tf\n",
    "import matplotlib.pyplot as plt\n",
    "import seaborn as sns\n",
    "import os\n",
    "import re\n",
    "import nltk\n",
    "from nltk.corpus import stopwords\n",
    "from nltk.stem import WordNetLemmatizer\n",
    "from nltk.tokenize import word_tokenize\n",
    "from nltk.tokenize import RegexpTokenizer\n",
    "from nltk.stem import PorterStemmer\n",
    "from nltk.stem import LancasterStemmer\n",
    "from nltk.stem import SnowballStemmer\n",
    "from sklearn.feature_extraction.text import CountVectorizer\n",
    "from sklearn.feature_extraction.text import TfidfVectorizer\n",
    "from sklearn.model_selection import train_test_split\n",
    "from collections import Counter\n",
    "from sklearn.metrics import confusion_matrix\n",
    "from sklearn.metrics import accuracy_score\n",
    "from sklearn.metrics import classification_report\n",
    "from sklearn.metrics import roc_auc_score\n",
    "from sklearn.metrics import roc_curve\n",
    "from sklearn.metrics import auc\n",
    "from sklearn.metrics import precision_recall_curve\n",
    "from sklearn.metrics import average_precision_score\n",
    "from sklearn.metrics import f1_score\n",
    "from sklearn.metrics import precision_score\n",
    "from sklearn.metrics import recall_score\n",
    "from sklearn.metrics import log_loss\n"
   ]
  },
  {
   "cell_type": "code",
   "execution_count": 3,
   "metadata": {},
   "outputs": [],
   "source": [
    " # Load your dataset from the DataFrame\n",
    "df = pd.read_csv('/workspaces/CONAN/CONAN/CONAN.csv')"
   ]
  },
  {
   "cell_type": "code",
   "execution_count": 4,
   "metadata": {},
   "outputs": [
    {
     "data": {
      "text/plain": [
       "23"
      ]
     },
     "execution_count": 4,
     "metadata": {},
     "output_type": "execute_result"
    }
   ],
   "source": [
    "# Configure the TextVectorization layer\n",
    "max_features = 10000\n",
    "sequence_length = 250\n",
    "\n",
    "vectorize_layer = tf.keras.layers.TextVectorization(\n",
    "    max_tokens=max_features,\n",
    "    output_mode='int',\n",
    "    output_sequence_length=sequence_length)\n",
    "\n",
    "# Fit the TextVectorization layer on 'hateSpeech'\n",
    "vectorize_layer.adapt(df['hateSpeech'])\n",
    "\n",
    "# Create a label mapping for 'hsSubType'\n",
    "label_mapping = {subtype: label for label, subtype in enumerate(df['hsSubType'].unique())}\n",
    "num_classes = len(label_mapping)\n",
    "len(label_mapping)\n"
   ]
  },
  {
   "cell_type": "code",
   "execution_count": 5,
   "metadata": {},
   "outputs": [],
   "source": [
    "batch_size = 16\n",
    "# Define a function to vectorize the text and return the labels\n",
    "def vectorize_text(text, label):\n",
    "    #text = tf.expand_dims(text, -1)\n",
    "    return vectorize_layer(text), label\n",
    "\n",
    "# Map 'hsSubType' to integer labels\n",
    "df['label'] = df['hsSubType'].map(label_mapping)\n",
    "# Split the data into training (80%) and the remaining (20%)\n",
    "train_df, remaining_df = train_test_split(df, test_size=0.2, random_state=42)\n",
    "\n",
    "# Create a TensorFlow dataset for training\n",
    "raw_train_ds = tf.data.Dataset.from_tensor_slices((train_df['hateSpeech'], train_df['label']))\n",
    "train_ds = raw_train_ds.map(vectorize_text)\n",
    "#train_ds = raw_train_ds.map(vectorize_text).cache().prefetch(buffer_size=tf.data.AUTOTUNE)\n",
    "train_ds = train_ds.batch(batch_size).cache().prefetch(buffer_size=tf.data.AUTOTUNE)\n",
    "\n",
    "# Further split the remaining data into validation (10%) and test (10%)\n",
    "val_df, test_df = train_test_split(remaining_df, test_size=0.5, random_state=42)\n",
    "\n",
    "# Create a TensorFlow dataset for validation\n",
    "raw_val_ds = tf.data.Dataset.from_tensor_slices((val_df['hateSpeech'], val_df['label']))\n",
    "val_ds = raw_val_ds.map(vectorize_text)\n",
    "#val_ds = raw_val_ds.map(vectorize_text).cache().prefetch(buffer_size=tf.data.AUTOTUNE)\n",
    "val_ds = val_ds.batch(batch_size).cache().prefetch(buffer_size=tf.data.AUTOTUNE)\n",
    "\n",
    "# Create a TensorFlow dataset for testing\n",
    "raw_test_ds = tf.data.Dataset.from_tensor_slices((test_df['hateSpeech'], test_df['label']))\n",
    "test_ds = raw_test_ds.map(vectorize_text)\n",
    "test_ds = test_ds.batch(batch_size).cache().prefetch(buffer_size=tf.data.AUTOTUNE)"
   ]
  },
  {
   "cell_type": "code",
   "execution_count": 6,
   "metadata": {},
   "outputs": [
    {
     "name": "stdout",
     "output_type": "stream",
     "text": [
      "text_batch shape: (16, 250)\n",
      "label_batch shape: (16,)\n"
     ]
    },
    {
     "name": "stderr",
     "output_type": "stream",
     "text": [
      "2023-10-12 21:46:28.209026: W tensorflow/core/kernels/data/cache_dataset_ops.cc:854] The calling iterator did not fully read the dataset being cached. In order to avoid unexpected truncation of the dataset, the partially cached contents of the dataset  will be discarded. This can happen if you have an input pipeline similar to `dataset.cache().take(k).repeat()`. You should use `dataset.take(k).cache().repeat()` instead.\n"
     ]
    }
   ],
   "source": [
    "#Check the dataset shapes: Print the shapes of the batches in train_ds and val_ds using a loop to ensure they match the expected shapes.\n",
    "for text_batch, label_batch in train_ds.take(1):\n",
    "    print('text_batch shape:', text_batch.shape)\n",
    "    print('label_batch shape:', label_batch.shape)\n",
    "    "
   ]
  },
  {
   "cell_type": "code",
   "execution_count": 7,
   "metadata": {},
   "outputs": [
    {
     "name": "stdout",
     "output_type": "stream",
     "text": [
      "{'crimes': 0, 'crimes , culture': 1, 'crimes , culture , rapism': 2, 'crimes , culture , women': 3, 'crimes , rapism': 4, 'crimes , rapism , terrorism': 5, 'culture': 6, 'culture , generic': 7, 'culture , islamization': 8, 'culture , women': 9, 'economics': 10, 'generic': 11, 'islamization': 12, 'islamization , rapism': 13, 'rapism': 14, 'rapism , terrorism': 15, 'terrorism': 16, 'women': 17, 'crimes , women': 18, 'culture , terrorism': 19, 'islamization , terrorism': 20, 'islamization , women': 21, 'rapism , women': 22}\n"
     ]
    }
   ],
   "source": [
    "#print the mapping\n",
    "print(label_mapping)"
   ]
  },
  {
   "cell_type": "code",
   "execution_count": 8,
   "metadata": {},
   "outputs": [
    {
     "name": "stdout",
     "output_type": "stream",
     "text": [
      "1287 --->  fundamental\n",
      " 313 --->  se\n",
      "Vocabulary size: 2692\n",
      "Number of classes: 23\n",
      "Label 0 corresponds to crimes\n",
      "Label 1 corresponds to crimes , culture\n"
     ]
    }
   ],
   "source": [
    "print(\"1287 ---> \",vectorize_layer.get_vocabulary()[1287])\n",
    "print(\" 313 ---> \",vectorize_layer.get_vocabulary()[313])\n",
    "print('Vocabulary size: {}'.format(len(vectorize_layer.get_vocabulary())))\n",
    "print('Number of classes: {}'.format(num_classes))\n",
    "\n",
    "# Reverse the numerical mapping to get 'hsSubType' from label\n",
    "reverse_mapping = {v: k for k, v in label_mapping.items()}\n",
    "print(\"Label 0 corresponds to\", reverse_mapping[0])\n",
    "print(\"Label 1 corresponds to\", reverse_mapping[1])"
   ]
  },
  {
   "cell_type": "code",
   "execution_count": 9,
   "metadata": {},
   "outputs": [
    {
     "data": {
      "text/plain": [
       "<Axes: ylabel='label'>"
      ]
     },
     "execution_count": 9,
     "metadata": {},
     "output_type": "execute_result"
    },
    {
     "data": {
      "image/png": "[encoded data removed]",
      "text/plain": [
       "<Figure size 640x480 with 1 Axes>"
      ]
     },
     "metadata": {},
     "output_type": "display_data"
    }
   ],
   "source": [
    "df['label'].value_counts().plot(kind='barh')"
   ]
  },
  {
   "cell_type": "code",
   "execution_count": 10,
   "metadata": {},
   "outputs": [
    {
     "name": "stdout",
     "output_type": "stream",
     "text": [
      "text_batch shape: (16, 250)\n",
      "label_batch shape: (16,)\n"
     ]
    },
    {
     "name": "stderr",
     "output_type": "stream",
     "text": [
      "2023-10-12 21:46:28.656938: W tensorflow/core/kernels/data/cache_dataset_ops.cc:854] The calling iterator did not fully read the dataset being cached. In order to avoid unexpected truncation of the dataset, the partially cached contents of the dataset  will be discarded. This can happen if you have an input pipeline similar to `dataset.cache().take(k).repeat()`. You should use `dataset.take(k).cache().repeat()` instead.\n",
      "2023-10-12 21:46:28.656980: W tensorflow/core/kernels/data/cache_dataset_ops.cc:854] The calling iterator did not fully read the dataset being cached. In order to avoid unexpected truncation of the dataset, the partially cached contents of the dataset  will be discarded. This can happen if you have an input pipeline similar to `dataset.cache().take(k).repeat()`. You should use `dataset.take(k).cache().repeat()` instead.\n"
     ]
    }
   ],
   "source": [
    "AUTOTUNE = tf.data.AUTOTUNE\n",
    "\n",
    "train_ds = train_ds.cache().prefetch(buffer_size=AUTOTUNE)\n",
    "val_ds = val_ds.cache().prefetch(buffer_size=AUTOTUNE)\n",
    "test_ds = test_ds.cache().prefetch(buffer_size=AUTOTUNE)\n",
    "\n",
    "for text_batch, label_batch in train_ds.take(1):\n",
    "    print('text_batch shape:', text_batch.shape)\n",
    "    print('label_batch shape:', label_batch.shape)\n",
    "    "
   ]
  },
  {
   "cell_type": "code",
   "execution_count": 11,
   "metadata": {},
   "outputs": [
    {
     "name": "stdout",
     "output_type": "stream",
     "text": [
      "Input shape: (None, None)\n",
      "Model: \"sequential\"\n",
      "_________________________________________________________________\n",
      " Layer (type)                Output Shape              Param #   \n",
      "=================================================================\n",
      " embedding (Embedding)       (None, None, 16)          160016    \n",
      "                                                                 \n",
      " dropout (Dropout)           (None, None, 16)          0         \n",
      "                                                                 \n",
      " global_average_pooling1d (  (None, 16)                0         \n",
      " GlobalAveragePooling1D)                                         \n",
      "                                                                 \n",
      " dropout_1 (Dropout)         (None, 16)                0         \n",
      "                                                                 \n",
      " dense (Dense)               (None, 1)                 17        \n",
      "                                                                 \n",
      "=================================================================\n",
      "Total params: 160033 (625.13 KB)\n",
      "Trainable params: 160033 (625.13 KB)\n",
      "Non-trainable params: 0 (0.00 Byte)\n",
      "_________________________________________________________________\n"
     ]
    }
   ],
   "source": [
    "import tensorflow as tf\n",
    "from tensorflow.keras import layers\n",
    "embedding_dim = 16\n",
    "model = tf.keras.Sequential([\n",
    "  layers.Embedding(max_features + 1, embedding_dim),\n",
    "  layers.Dropout(0.2),\n",
    "  layers.GlobalAveragePooling1D(),\n",
    "  layers.Dropout(0.2),\n",
    "  layers.Dense(1)])\n",
    "\n",
    "# print model input shape\n",
    "print(\"Input shape:\", train_ds.element_spec[0].shape)\n",
    "model.summary()"
   ]
  },
  {
   "cell_type": "code",
   "execution_count": 32,
   "metadata": {},
   "outputs": [
    {
     "name": "stdout",
     "output_type": "stream",
     "text": [
      "Epoch 1/60\n"
     ]
    },
    {
     "name": "stderr",
     "output_type": "stream",
     "text": [
      "/home/codespace/.python/current/lib/python3.10/site-packages/keras/src/backend.py:5729: UserWarning: \"`sparse_categorical_crossentropy` received `from_logits=True`, but the `output` argument was produced by a Softmax activation and thus does not represent logits. Was this intended?\n",
      "  output, from_logits = _get_logits(\n"
     ]
    },
    {
     "name": "stdout",
     "output_type": "stream",
     "text": [
      "750/750 [==============================] - 2s 2ms/step - loss: 3.6065 - accuracy: 0.2307 - val_loss: 2.7069 - val_accuracy: 0.2168\n",
      "Epoch 2/60\n",
      "750/750 [==============================] - 1s 1ms/step - loss: 2.5143 - accuracy: 0.2535 - val_loss: 2.4837 - val_accuracy: 0.2422\n",
      "Epoch 3/60\n",
      "750/750 [==============================] - 1s 1ms/step - loss: 2.3707 - accuracy: 0.2621 - val_loss: 2.4047 - val_accuracy: 0.2415\n",
      "Epoch 4/60\n",
      "750/750 [==============================] - 1s 1ms/step - loss: 2.3022 - accuracy: 0.2631 - val_loss: 2.3476 - val_accuracy: 0.2428\n",
      "Epoch 5/60\n",
      "750/750 [==============================] - 1s 1ms/step - loss: 2.2639 - accuracy: 0.2636 - val_loss: 2.3977 - val_accuracy: 0.2455\n",
      "Epoch 6/60\n",
      "750/750 [==============================] - 1s 1ms/step - loss: 2.2529 - accuracy: 0.2632 - val_loss: 2.2886 - val_accuracy: 0.2415\n",
      "Epoch 7/60\n",
      "750/750 [==============================] - 1s 1ms/step - loss: 2.2325 - accuracy: 0.2633 - val_loss: 2.2923 - val_accuracy: 0.2382\n",
      "Epoch 8/60\n",
      "750/750 [==============================] - 1s 1ms/step - loss: 2.2173 - accuracy: 0.2632 - val_loss: 2.2695 - val_accuracy: 0.2535\n",
      "Epoch 9/60\n",
      "750/750 [==============================] - 1s 2ms/step - loss: 2.2205 - accuracy: 0.2763 - val_loss: 2.2701 - val_accuracy: 0.2542\n",
      "Epoch 10/60\n",
      "750/750 [==============================] - 1s 1ms/step - loss: 2.2098 - accuracy: 0.2808 - val_loss: 2.3166 - val_accuracy: 0.2602\n",
      "Epoch 11/60\n",
      "750/750 [==============================] - 1s 2ms/step - loss: 2.2107 - accuracy: 0.2828 - val_loss: 2.2789 - val_accuracy: 0.2568\n",
      "Epoch 12/60\n",
      "750/750 [==============================] - 1s 1ms/step - loss: 2.2083 - accuracy: 0.2835 - val_loss: 2.2688 - val_accuracy: 0.2615\n",
      "Epoch 13/60\n",
      "750/750 [==============================] - 1s 1ms/step - loss: 2.2063 - accuracy: 0.2857 - val_loss: 2.2777 - val_accuracy: 0.2602\n",
      "Epoch 14/60\n",
      "750/750 [==============================] - 1s 1ms/step - loss: 2.2141 - accuracy: 0.2837 - val_loss: 2.2777 - val_accuracy: 0.2602\n",
      "Epoch 15/60\n",
      "750/750 [==============================] - 1s 1ms/step - loss: 2.2158 - accuracy: 0.2829 - val_loss: 2.2821 - val_accuracy: 0.2582\n",
      "Epoch 16/60\n",
      "750/750 [==============================] - 1s 1ms/step - loss: 2.2137 - accuracy: 0.2822 - val_loss: 2.2793 - val_accuracy: 0.2582\n",
      "Epoch 17/60\n",
      "750/750 [==============================] - 1s 1ms/step - loss: 2.2163 - accuracy: 0.2812 - val_loss: 2.3058 - val_accuracy: 0.2582\n",
      "Epoch 18/60\n",
      "750/750 [==============================] - 1s 1ms/step - loss: 2.2074 - accuracy: 0.2826 - val_loss: 2.2730 - val_accuracy: 0.2582\n",
      "Epoch 19/60\n",
      "750/750 [==============================] - 1s 1ms/step - loss: 2.2047 - accuracy: 0.2827 - val_loss: 2.2729 - val_accuracy: 0.2582\n",
      "Epoch 20/60\n",
      "750/750 [==============================] - 1s 1ms/step - loss: 2.2046 - accuracy: 0.2827 - val_loss: 2.2730 - val_accuracy: 0.2582\n",
      "Epoch 21/60\n",
      "750/750 [==============================] - 1s 1ms/step - loss: 2.2045 - accuracy: 0.2827 - val_loss: 2.2730 - val_accuracy: 0.2582\n",
      "Epoch 22/60\n",
      "750/750 [==============================] - 1s 1ms/step - loss: 2.2310 - accuracy: 0.2771 - val_loss: 2.2950 - val_accuracy: 0.2548\n",
      "Epoch 23/60\n",
      "750/750 [==============================] - 1s 1ms/step - loss: 2.2080 - accuracy: 0.2826 - val_loss: 2.2752 - val_accuracy: 0.2582\n",
      "Epoch 24/60\n",
      "750/750 [==============================] - 1s 2ms/step - loss: 2.2089 - accuracy: 0.2833 - val_loss: 2.2730 - val_accuracy: 0.2582\n",
      "Epoch 25/60\n",
      "750/750 [==============================] - 1s 1ms/step - loss: 2.2002 - accuracy: 0.2847 - val_loss: 2.2912 - val_accuracy: 0.2622\n",
      "Epoch 26/60\n",
      "750/750 [==============================] - 1s 1ms/step - loss: 2.1956 - accuracy: 0.2873 - val_loss: 2.2831 - val_accuracy: 0.2622\n",
      "Epoch 27/60\n",
      "750/750 [==============================] - 1s 1ms/step - loss: 2.1943 - accuracy: 0.2874 - val_loss: 2.2850 - val_accuracy: 0.2622\n",
      "Epoch 28/60\n",
      "750/750 [==============================] - 1s 1ms/step - loss: 2.1942 - accuracy: 0.2874 - val_loss: 2.2861 - val_accuracy: 0.2622\n",
      "Epoch 29/60\n",
      "750/750 [==============================] - 1s 1ms/step - loss: 2.1943 - accuracy: 0.2874 - val_loss: 2.2853 - val_accuracy: 0.2622\n",
      "Epoch 30/60\n",
      "750/750 [==============================] - 1s 1ms/step - loss: 2.2062 - accuracy: 0.2841 - val_loss: 2.3305 - val_accuracy: 0.2362\n",
      "Epoch 31/60\n",
      "750/750 [==============================] - 1s 1ms/step - loss: 2.2167 - accuracy: 0.2822 - val_loss: 2.2910 - val_accuracy: 0.2575\n",
      "Epoch 32/60\n",
      "750/750 [==============================] - 1s 1ms/step - loss: 2.2236 - accuracy: 0.2816 - val_loss: 2.3025 - val_accuracy: 0.2575\n",
      "Epoch 33/60\n",
      "750/750 [==============================] - 1s 1ms/step - loss: 2.1901 - accuracy: 0.2942 - val_loss: 2.2537 - val_accuracy: 0.2722\n",
      "Epoch 34/60\n",
      "750/750 [==============================] - 1s 1ms/step - loss: 2.1836 - accuracy: 0.2956 - val_loss: 2.2538 - val_accuracy: 0.2722\n",
      "Epoch 35/60\n",
      "750/750 [==============================] - 1s 1ms/step - loss: 2.1887 - accuracy: 0.2942 - val_loss: 2.2922 - val_accuracy: 0.2622\n",
      "Epoch 36/60\n",
      "750/750 [==============================] - 1s 1ms/step - loss: 2.1992 - accuracy: 0.2876 - val_loss: 2.2717 - val_accuracy: 0.2622\n",
      "Epoch 37/60\n",
      "750/750 [==============================] - 1s 1ms/step - loss: 2.1929 - accuracy: 0.2891 - val_loss: 2.2656 - val_accuracy: 0.2735\n",
      "Epoch 38/60\n",
      "750/750 [==============================] - 1s 1ms/step - loss: 2.1922 - accuracy: 0.2884 - val_loss: 2.2731 - val_accuracy: 0.2622\n",
      "Epoch 39/60\n",
      "750/750 [==============================] - 1s 1ms/step - loss: 2.1939 - accuracy: 0.2876 - val_loss: 2.2733 - val_accuracy: 0.2622\n",
      "Epoch 40/60\n",
      "750/750 [==============================] - 1s 1ms/step - loss: 2.1939 - accuracy: 0.2876 - val_loss: 2.2736 - val_accuracy: 0.2622\n",
      "Epoch 41/60\n",
      "750/750 [==============================] - 1s 1ms/step - loss: 2.2214 - accuracy: 0.2828 - val_loss: 2.3254 - val_accuracy: 0.2482\n",
      "Epoch 42/60\n",
      "750/750 [==============================] - 1s 1ms/step - loss: 2.2591 - accuracy: 0.2711 - val_loss: 2.3360 - val_accuracy: 0.2508\n",
      "Epoch 43/60\n",
      "750/750 [==============================] - 1s 1ms/step - loss: 2.2513 - accuracy: 0.2731 - val_loss: 2.3365 - val_accuracy: 0.2508\n",
      "Epoch 44/60\n",
      "750/750 [==============================] - 1s 1ms/step - loss: 2.2512 - accuracy: 0.2731 - val_loss: 2.3367 - val_accuracy: 0.2508\n",
      "Epoch 45/60\n",
      "750/750 [==============================] - 1s 1ms/step - loss: 2.2512 - accuracy: 0.2731 - val_loss: 2.3368 - val_accuracy: 0.2508\n",
      "Epoch 46/60\n",
      "750/750 [==============================] - 1s 1ms/step - loss: 2.2617 - accuracy: 0.2732 - val_loss: 2.3537 - val_accuracy: 0.2502\n",
      "Epoch 47/60\n",
      "750/750 [==============================] - 1s 1ms/step - loss: 2.2538 - accuracy: 0.2726 - val_loss: 2.3338 - val_accuracy: 0.2495\n",
      "Epoch 48/60\n",
      "750/750 [==============================] - 2s 2ms/step - loss: 2.2568 - accuracy: 0.2706 - val_loss: 2.3351 - val_accuracy: 0.2495\n",
      "Epoch 49/60\n",
      "750/750 [==============================] - 1s 1ms/step - loss: 2.2568 - accuracy: 0.2706 - val_loss: 2.3359 - val_accuracy: 0.2495\n",
      "Epoch 50/60\n",
      "750/750 [==============================] - 1s 2ms/step - loss: 2.2568 - accuracy: 0.2706 - val_loss: 2.3365 - val_accuracy: 0.2495\n",
      "Epoch 51/60\n",
      "750/750 [==============================] - 2s 3ms/step - loss: 2.2568 - accuracy: 0.2706 - val_loss: 2.3371 - val_accuracy: 0.2495\n",
      "Epoch 52/60\n",
      "750/750 [==============================] - 1s 2ms/step - loss: 2.2568 - accuracy: 0.2706 - val_loss: 2.3376 - val_accuracy: 0.2495\n",
      "Epoch 53/60\n",
      "750/750 [==============================] - 1s 1ms/step - loss: 2.2568 - accuracy: 0.2706 - val_loss: 2.3381 - val_accuracy: 0.2495\n",
      "Epoch 54/60\n",
      "750/750 [==============================] - 1s 1ms/step - loss: 2.2568 - accuracy: 0.2706 - val_loss: 2.3386 - val_accuracy: 0.2495\n",
      "Epoch 55/60\n",
      "750/750 [==============================] - 1s 1ms/step - loss: 2.2568 - accuracy: 0.2706 - val_loss: 2.3391 - val_accuracy: 0.2495\n",
      "Epoch 56/60\n",
      "750/750 [==============================] - 1s 1ms/step - loss: 2.2568 - accuracy: 0.2706 - val_loss: 2.3396 - val_accuracy: 0.2495\n",
      "Epoch 57/60\n",
      "750/750 [==============================] - 2s 3ms/step - loss: 2.2568 - accuracy: 0.2706 - val_loss: 2.3400 - val_accuracy: 0.2495\n",
      "Epoch 58/60\n",
      "750/750 [==============================] - 1s 2ms/step - loss: 2.2568 - accuracy: 0.2706 - val_loss: 2.3405 - val_accuracy: 0.2495\n",
      "Epoch 59/60\n",
      "750/750 [==============================] - 1s 1ms/step - loss: 2.2568 - accuracy: 0.2706 - val_loss: 2.3409 - val_accuracy: 0.2495\n",
      "Epoch 60/60\n",
      "750/750 [==============================] - 1s 1ms/step - loss: 2.2568 - accuracy: 0.2706 - val_loss: 2.3413 - val_accuracy: 0.2495\n",
      "Test loss: 2.2747602462768555 / Test accuracy: 0.26951301097869873\n"
     ]
    }
   ],
   "source": [
    "# Imports\n",
    "from sklearn.model_selection import train_test_split\n",
    "from tensorflow.keras.models import Sequential\n",
    "from tensorflow.keras.layers import Dense\n",
    "from tensorflow.keras.losses import SparseCategoricalCrossentropy\n",
    "from tensorflow.keras.optimizers import Adam\n",
    "\n",
    "\n",
    "n_features = 250\n",
    "epochs = 60\n",
    "\n",
    "# Create the model\n",
    "model = Sequential()\n",
    "model.add(Dense(32, activation='relu', input_dim=n_features))\n",
    "model.add(Dense(16, activation='relu'))\n",
    "model.add(Dense(8, activation='relu'))\n",
    "model.add(Dense(num_classes, activation='softmax'))  # Use softmax for multi-class classification\n",
    "\n",
    "# Compile the model\n",
    "model.compile(loss=SparseCategoricalCrossentropy(from_logits=True),\n",
    "              optimizer=Adam(),\n",
    "              metrics=['accuracy'])\n",
    "\n",
    "# Fit data to the model\n",
    "history = model.fit(train_ds,  # Use your training dataset\n",
    "          validation_data=val_ds,  # Use your validation dataset\n",
    "          epochs=epochs,  # Use the number of epochs you've defined\n",
    "          verbose=1)\n",
    "\n",
    "# Generate generalization metrics\n",
    "score = model.evaluate(test_ds, verbose=0)  # Use your test dataset\n",
    "print(f'Test loss: {score[0]} / Test accuracy: {score[1]}')\n",
    "\n"
   ]
  },
  {
   "cell_type": "code",
   "execution_count": 33,
   "metadata": {},
   "outputs": [
    {
     "name": "stdout",
     "output_type": "stream",
     "text": [
      "94/94 [==============================] - 0s 989us/step - loss: 2.2748 - accuracy: 0.2695\n",
      "Loss:  2.2747602462768555\n",
      "Accuracy:  0.26951301097869873\n"
     ]
    }
   ],
   "source": [
    "loss, accuracy = model.evaluate(test_ds)\n",
    "\n",
    "print(\"Loss: \", loss)\n",
    "print(\"Accuracy: \", accuracy)"
   ]
  },
  {
   "cell_type": "code",
   "execution_count": 34,
   "metadata": {},
   "outputs": [
    {
     "data": {
      "text/plain": [
       "dict_keys(['loss', 'accuracy', 'val_loss', 'val_accuracy'])"
      ]
     },
     "execution_count": 34,
     "metadata": {},
     "output_type": "execute_result"
    }
   ],
   "source": [
    "history_dict = history.history\n",
    "history_dict.keys()"
   ]
  },
  {
   "cell_type": "code",
   "execution_count": 35,
   "metadata": {},
   "outputs": [
    {
     "data": {
      "image/png": "[encoded data removed]",
      "text/plain": [
       "<Figure size 640x480 with 1 Axes>"
      ]
     },
     "metadata": {},
     "output_type": "display_data"
    }
   ],
   "source": [
    "accuracy = history_dict['accuracy']\n",
    "val_acc = history_dict['val_accuracy']\n",
    "loss = history_dict['loss']\n",
    "val_loss = history_dict['val_loss']\n",
    "\n",
    "epochs = range(1, len(accuracy) + 1)\n",
    "\n",
    "# \"bo\" is for \"blue dot\"\n",
    "plt.plot(epochs, loss, 'g', label='Training loss')\n",
    "# b is for \"solid blue line\"\n",
    "plt.plot(epochs, val_loss, 'b', label='Validation loss')\n",
    "plt.title('Training and validation loss')\n",
    "plt.xlabel('Epochs')\n",
    "plt.ylabel('Loss')\n",
    "plt.legend()\n",
    "\n",
    "plt.show()"
   ]
  },
  {
   "cell_type": "code",
   "execution_count": 36,
   "metadata": {},
   "outputs": [
    {
     "data": {
      "image/png": "[encoded data removed]",
      "text/plain": [
       "<Figure size 640x480 with 1 Axes>"
      ]
     },
     "metadata": {},
     "output_type": "display_data"
    }
   ],
   "source": [
    "plt.plot(epochs, accuracy, 'g', label='Training acc')\n",
    "plt.plot(epochs, val_acc, 'b', label='Validation acc')\n",
    "plt.title('Training and validation accuracy')\n",
    "plt.xlabel('Epochs')\n",
    "plt.ylabel('Accuracy')\n",
    "plt.legend(loc='lower right')\n",
    "\n",
    "plt.show()"
   ]
  },
  {
   "cell_type": "code",
   "execution_count": 37,
   "metadata": {},
   "outputs": [
    {
     "name": "stdout",
     "output_type": "stream",
     "text": [
      "INFO:tensorflow:Assets written to: my_trained_model/assets\n"
     ]
    },
    {
     "name": "stderr",
     "output_type": "stream",
     "text": [
      "INFO:tensorflow:Assets written to: my_trained_model/assets\n"
     ]
    }
   ],
   "source": [
    "# Save the model\n",
    "model.save(\"my_trained_model\")\n"
   ]
  },
  {
   "cell_type": "code",
   "execution_count": 38,
   "metadata": {},
   "outputs": [],
   "source": [
    "# Load the saved model\n",
    "loaded_model = tf.keras.models.load_model(\"my_trained_model\")\n"
   ]
  },
  {
   "cell_type": "code",
   "execution_count": 47,
   "metadata": {},
   "outputs": [
    {
     "name": "stdout",
     "output_type": "stream",
     "text": [
      "1/1 [==============================] - 0s 15ms/step\n",
      "[[0.04119586 0.00059787 0.00422453 0.00111131 0.00825022 0.00125157\n",
      "  0.11568934 0.00413581 0.00697318 0.09463724 0.04058827 0.24719025\n",
      "  0.15480608 0.00298935 0.05180588 0.00187618 0.1025319  0.05305369\n",
      "  0.00084371 0.02590764 0.03501568 0.00395224 0.00137216]]\n",
      "Predicted Class: generic\n"
     ]
    }
   ],
   "source": [
    "input_sentence = \"Islam is a religion of peace\"\n",
    "\n",
    "# Vectorize the sentence\n",
    "vectorized_sentence = vectorize_layer([input_sentence])\n",
    "\n",
    "# Make predictions\n",
    "predictions = loaded_model.predict(vectorized_sentence)\n",
    "print(predictions)\n",
    "\n",
    "predicted_class = np.argmax(predictions)\n",
    "# Reverse the numerical mapping to get 'hsSubType' from label\n",
    "reverse_mapping = {v: k for k, v in label_mapping.items()}\n",
    "print(\"Predicted Class:\", reverse_mapping[predicted_class])"
   ]
  },
  {
   "cell_type": "code",
   "execution_count": null,
   "metadata": {},
   "outputs": [
    {
     "name": "stdout",
     "output_type": "stream",
     "text": [
      "{'crimes': 0, 'crimes , culture': 1, 'crimes , culture , rapism': 2, 'crimes , culture , women': 3, 'crimes , rapism': 4, 'crimes , rapism , terrorism': 5, 'culture': 6, 'culture , generic': 7, 'culture , islamization': 8, 'culture , women': 9, 'economics': 10, 'generic': 11, 'islamization': 12, 'islamization , rapism': 13, 'rapism': 14, 'rapism , terrorism': 15, 'terrorism': 16, 'women': 17, 'crimes , women': 18, 'culture , terrorism': 19, 'islamization , terrorism': 20, 'islamization , women': 21, 'rapism , women': 22}\n"
     ]
    }
   ],
   "source": [
    "print(label_mapping)"
   ]
  },
  {
   "cell_type": "markdown",
   "metadata": {},
   "source": [
    "# Creation of an API"
   ]
  },
  {
   "cell_type": "code",
   "execution_count": 43,
   "metadata": {},
   "outputs": [
    {
     "name": "stdout",
     "output_type": "stream",
     "text": [
      " * Serving Flask app '__main__'\n",
      " * Debug mode: off\n"
     ]
    },
    {
     "name": "stderr",
     "output_type": "stream",
     "text": [
      "INFO:werkzeug:\u001b[31m\u001b[1mWARNING: This is a development server. Do not use it in a production deployment. Use a production WSGI server instead.\u001b[0m\n",
      " * Running on all addresses (0.0.0.0)\n",
      " * Running on http://127.0.0.1:5000\n",
      " * Running on http://172.16.5.4:5000\n",
      "INFO:werkzeug:\u001b[33mPress CTRL+C to quit\u001b[0m\n"
     ]
    },
    {
     "name": "stderr",
     "output_type": "stream",
     "text": [
      "INFO:werkzeug:127.0.0.1 - - [12/Oct/2023 21:59:54] \"\u001b[33mGET / HTTP/1.1\u001b[0m\" 404 -\n",
      "INFO:werkzeug:127.0.0.1 - - [12/Oct/2023 21:59:54] \"\u001b[33mGET /favicon.ico HTTP/1.1\u001b[0m\" 404 -\n"
     ]
    }
   ],
   "source": [
    "from flask import Flask, request, jsonify\n",
    "import threading\n",
    "import time\n",
    "\n",
    "app = Flask(__name__)\n",
    "\n",
    "@app.route('/predict', methods=['POST'])\n",
    "def predict():\n",
    "    data = request.get_json()\n",
    "    # Process and make predictions with your model here\n",
    "    # For demonstration, let's just return a sample response\n",
    "    response = {'result': 'Sample prediction'}\n",
    "    return jsonify(response)\n",
    "\n",
    "def run_flask_app():\n",
    "    app.run(host='0.0.0.0', port=5000)\n",
    "\n",
    "# Start the Flask app in a separate thread\n",
    "flask_thread = threading.Thread(target=run_flask_app)\n",
    "flask_thread.start()\n",
    "\n",
    "# Give some time for the Flask app to start\n",
    "time.sleep(2)\n",
    "\n",
    "# You can now send requests to the /predict endpoint in another cell\n"
   ]
  }
 ],
 "metadata": {
  "kernelspec": {
   "display_name": "Python 3",
   "language": "python",
   "name": "python3"
  },
  "language_info": {
   "codemirror_mode": {
    "name": "ipython",
    "version": 3
   },
   "file_extension": ".py",
   "mimetype": "text/x-python",
   "name": "python",
   "nbconvert_exporter": "python",
   "pygments_lexer": "ipython3",
   "version": "3.10.8"
  }
 },
 "nbformat": 4,
 "nbformat_minor": 2
}
