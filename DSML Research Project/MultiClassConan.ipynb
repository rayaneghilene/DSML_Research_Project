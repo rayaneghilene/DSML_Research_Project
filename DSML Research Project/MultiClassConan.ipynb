{
 "cells": [
  {
   "cell_type": "code",
   "execution_count": 2,
   "metadata": {},
   "outputs": [
    {
     "name": "stdout",
     "output_type": "stream",
     "text": [
      "Requirement already satisfied: nltk in /usr/local/python/3.10.8/lib/python3.10/site-packages (3.8.1)\n",
      "Requirement already satisfied: click in /usr/local/python/3.10.8/lib/python3.10/site-packages (from nltk) (8.1.7)\n",
      "Requirement already satisfied: joblib in /home/codespace/.local/lib/python3.10/site-packages (from nltk) (1.3.2)\n",
      "Requirement already satisfied: regex>=2021.8.3 in /usr/local/python/3.10.8/lib/python3.10/site-packages (from nltk) (2023.10.3)\n",
      "Requirement already satisfied: tqdm in /usr/local/python/3.10.8/lib/python3.10/site-packages (from nltk) (4.66.1)\n",
      "Requirement already satisfied: keras in /usr/local/python/3.10.8/lib/python3.10/site-packages (2.14.0)\n",
      "Requirement already satisfied: tensorflow in /usr/local/python/3.10.8/lib/python3.10/site-packages (2.14.0)\n",
      "Requirement already satisfied: absl-py>=1.0.0 in /usr/local/python/3.10.8/lib/python3.10/site-packages (from tensorflow) (2.0.0)\n",
      "Requirement already satisfied: astunparse>=1.6.0 in /usr/local/python/3.10.8/lib/python3.10/site-packages (from tensorflow) (1.6.3)\n",
      "Requirement already satisfied: flatbuffers>=23.5.26 in /usr/local/python/3.10.8/lib/python3.10/site-packages (from tensorflow) (23.5.26)\n",
      "Requirement already satisfied: gast!=0.5.0,!=0.5.1,!=0.5.2,>=0.2.1 in /usr/local/python/3.10.8/lib/python3.10/site-packages (from tensorflow) (0.5.4)\n",
      "Requirement already satisfied: google-pasta>=0.1.1 in /usr/local/python/3.10.8/lib/python3.10/site-packages (from tensorflow) (0.2.0)\n",
      "Requirement already satisfied: h5py>=2.9.0 in /usr/local/python/3.10.8/lib/python3.10/site-packages (from tensorflow) (3.10.0)\n",
      "Requirement already satisfied: libclang>=13.0.0 in /usr/local/python/3.10.8/lib/python3.10/site-packages (from tensorflow) (16.0.6)\n",
      "Requirement already satisfied: ml-dtypes==0.2.0 in /usr/local/python/3.10.8/lib/python3.10/site-packages (from tensorflow) (0.2.0)\n",
      "Requirement already satisfied: numpy>=1.23.5 in /home/codespace/.local/lib/python3.10/site-packages (from tensorflow) (1.26.0)\n",
      "Requirement already satisfied: opt-einsum>=2.3.2 in /usr/local/python/3.10.8/lib/python3.10/site-packages (from tensorflow) (3.3.0)\n",
      "Requirement already satisfied: packaging in /home/codespace/.local/lib/python3.10/site-packages (from tensorflow) (23.2)\n",
      "Requirement already satisfied: protobuf!=4.21.0,!=4.21.1,!=4.21.2,!=4.21.3,!=4.21.4,!=4.21.5,<5.0.0dev,>=3.20.3 in /usr/local/python/3.10.8/lib/python3.10/site-packages (from tensorflow) (4.24.4)\n",
      "Requirement already satisfied: setuptools in /usr/local/python/3.10.8/lib/python3.10/site-packages (from tensorflow) (68.0.0)\n",
      "Requirement already satisfied: six>=1.12.0 in /home/codespace/.local/lib/python3.10/site-packages (from tensorflow) (1.16.0)\n",
      "Requirement already satisfied: termcolor>=1.1.0 in /usr/local/python/3.10.8/lib/python3.10/site-packages (from tensorflow) (2.3.0)\n",
      "Requirement already satisfied: typing-extensions>=3.6.6 in /home/codespace/.local/lib/python3.10/site-packages (from tensorflow) (4.8.0)\n",
      "Requirement already satisfied: wrapt<1.15,>=1.11.0 in /usr/local/python/3.10.8/lib/python3.10/site-packages (from tensorflow) (1.14.1)\n",
      "Requirement already satisfied: tensorflow-io-gcs-filesystem>=0.23.1 in /usr/local/python/3.10.8/lib/python3.10/site-packages (from tensorflow) (0.34.0)\n",
      "Requirement already satisfied: grpcio<2.0,>=1.24.3 in /usr/local/python/3.10.8/lib/python3.10/site-packages (from tensorflow) (1.59.0)\n",
      "Requirement already satisfied: tensorboard<2.15,>=2.14 in /usr/local/python/3.10.8/lib/python3.10/site-packages (from tensorflow) (2.14.1)\n",
      "Requirement already satisfied: tensorflow-estimator<2.15,>=2.14.0 in /usr/local/python/3.10.8/lib/python3.10/site-packages (from tensorflow) (2.14.0)\n",
      "Requirement already satisfied: keras<2.15,>=2.14.0 in /usr/local/python/3.10.8/lib/python3.10/site-packages (from tensorflow) (2.14.0)\n",
      "Requirement already satisfied: wheel<1.0,>=0.23.0 in /usr/local/python/3.10.8/lib/python3.10/site-packages (from astunparse>=1.6.0->tensorflow) (0.41.2)\n",
      "Requirement already satisfied: google-auth<3,>=1.6.3 in /usr/local/python/3.10.8/lib/python3.10/site-packages (from tensorboard<2.15,>=2.14->tensorflow) (2.23.3)\n",
      "Requirement already satisfied: google-auth-oauthlib<1.1,>=0.5 in /usr/local/python/3.10.8/lib/python3.10/site-packages (from tensorboard<2.15,>=2.14->tensorflow) (1.0.0)\n",
      "Requirement already satisfied: markdown>=2.6.8 in /usr/local/python/3.10.8/lib/python3.10/site-packages (from tensorboard<2.15,>=2.14->tensorflow) (3.5)\n",
      "Requirement already satisfied: requests<3,>=2.21.0 in /home/codespace/.local/lib/python3.10/site-packages (from tensorboard<2.15,>=2.14->tensorflow) (2.31.0)\n",
      "Requirement already satisfied: tensorboard-data-server<0.8.0,>=0.7.0 in /usr/local/python/3.10.8/lib/python3.10/site-packages (from tensorboard<2.15,>=2.14->tensorflow) (0.7.1)\n",
      "Requirement already satisfied: werkzeug>=1.0.1 in /usr/local/python/3.10.8/lib/python3.10/site-packages (from tensorboard<2.15,>=2.14->tensorflow) (3.0.0)\n",
      "Requirement already satisfied: cachetools<6.0,>=2.0.0 in /usr/local/python/3.10.8/lib/python3.10/site-packages (from google-auth<3,>=1.6.3->tensorboard<2.15,>=2.14->tensorflow) (5.3.1)\n",
      "Requirement already satisfied: pyasn1-modules>=0.2.1 in /usr/local/python/3.10.8/lib/python3.10/site-packages (from google-auth<3,>=1.6.3->tensorboard<2.15,>=2.14->tensorflow) (0.3.0)\n",
      "Requirement already satisfied: rsa<5,>=3.1.4 in /usr/local/python/3.10.8/lib/python3.10/site-packages (from google-auth<3,>=1.6.3->tensorboard<2.15,>=2.14->tensorflow) (4.9)\n",
      "Requirement already satisfied: requests-oauthlib>=0.7.0 in /usr/local/python/3.10.8/lib/python3.10/site-packages (from google-auth-oauthlib<1.1,>=0.5->tensorboard<2.15,>=2.14->tensorflow) (1.3.1)\n",
      "Requirement already satisfied: charset-normalizer<4,>=2 in /home/codespace/.local/lib/python3.10/site-packages (from requests<3,>=2.21.0->tensorboard<2.15,>=2.14->tensorflow) (3.3.0)\n",
      "Requirement already satisfied: idna<4,>=2.5 in /home/codespace/.local/lib/python3.10/site-packages (from requests<3,>=2.21.0->tensorboard<2.15,>=2.14->tensorflow) (3.4)\n",
      "Requirement already satisfied: urllib3<3,>=1.21.1 in /home/codespace/.local/lib/python3.10/site-packages (from requests<3,>=2.21.0->tensorboard<2.15,>=2.14->tensorflow) (2.0.6)\n",
      "Requirement already satisfied: certifi>=2017.4.17 in /home/codespace/.local/lib/python3.10/site-packages (from requests<3,>=2.21.0->tensorboard<2.15,>=2.14->tensorflow) (2023.7.22)\n",
      "Requirement already satisfied: MarkupSafe>=2.1.1 in /home/codespace/.local/lib/python3.10/site-packages (from werkzeug>=1.0.1->tensorboard<2.15,>=2.14->tensorflow) (2.1.3)\n",
      "Requirement already satisfied: pyasn1<0.6.0,>=0.4.6 in /usr/local/python/3.10.8/lib/python3.10/site-packages (from pyasn1-modules>=0.2.1->google-auth<3,>=1.6.3->tensorboard<2.15,>=2.14->tensorflow) (0.5.0)\n",
      "Requirement already satisfied: oauthlib>=3.0.0 in /usr/local/python/3.10.8/lib/python3.10/site-packages (from requests-oauthlib>=0.7.0->google-auth-oauthlib<1.1,>=0.5->tensorboard<2.15,>=2.14->tensorflow) (3.2.2)\n",
      "Requirement already satisfied: tensorflow_hub in /usr/local/python/3.10.8/lib/python3.10/site-packages (0.15.0)\n",
      "Requirement already satisfied: numpy>=1.12.0 in /home/codespace/.local/lib/python3.10/site-packages (from tensorflow_hub) (1.26.0)\n",
      "Requirement already satisfied: protobuf>=3.19.6 in /usr/local/python/3.10.8/lib/python3.10/site-packages (from tensorflow_hub) (4.24.4)\n",
      "Requirement already satisfied: transformers in /usr/local/python/3.10.8/lib/python3.10/site-packages (4.34.0)\n",
      "Requirement already satisfied: filelock in /home/codespace/.local/lib/python3.10/site-packages (from transformers) (3.12.4)\n",
      "Requirement already satisfied: huggingface-hub<1.0,>=0.16.4 in /usr/local/python/3.10.8/lib/python3.10/site-packages (from transformers) (0.17.3)\n",
      "Requirement already satisfied: numpy>=1.17 in /home/codespace/.local/lib/python3.10/site-packages (from transformers) (1.26.0)\n",
      "Requirement already satisfied: packaging>=20.0 in /home/codespace/.local/lib/python3.10/site-packages (from transformers) (23.2)\n",
      "Requirement already satisfied: pyyaml>=5.1 in /home/codespace/.local/lib/python3.10/site-packages (from transformers) (6.0.1)\n",
      "Requirement already satisfied: regex!=2019.12.17 in /usr/local/python/3.10.8/lib/python3.10/site-packages (from transformers) (2023.10.3)\n",
      "Requirement already satisfied: requests in /home/codespace/.local/lib/python3.10/site-packages (from transformers) (2.31.0)\n",
      "Requirement already satisfied: tokenizers<0.15,>=0.14 in /usr/local/python/3.10.8/lib/python3.10/site-packages (from transformers) (0.14.1)\n",
      "Requirement already satisfied: safetensors>=0.3.1 in /usr/local/python/3.10.8/lib/python3.10/site-packages (from transformers) (0.4.0)\n",
      "Requirement already satisfied: tqdm>=4.27 in /usr/local/python/3.10.8/lib/python3.10/site-packages (from transformers) (4.66.1)\n",
      "Requirement already satisfied: fsspec in /home/codespace/.local/lib/python3.10/site-packages (from huggingface-hub<1.0,>=0.16.4->transformers) (2023.9.2)\n",
      "Requirement already satisfied: typing-extensions>=3.7.4.3 in /home/codespace/.local/lib/python3.10/site-packages (from huggingface-hub<1.0,>=0.16.4->transformers) (4.8.0)\n",
      "Requirement already satisfied: charset-normalizer<4,>=2 in /home/codespace/.local/lib/python3.10/site-packages (from requests->transformers) (3.3.0)\n",
      "Requirement already satisfied: idna<4,>=2.5 in /home/codespace/.local/lib/python3.10/site-packages (from requests->transformers) (3.4)\n",
      "Requirement already satisfied: urllib3<3,>=1.21.1 in /home/codespace/.local/lib/python3.10/site-packages (from requests->transformers) (2.0.6)\n",
      "Requirement already satisfied: certifi>=2017.4.17 in /home/codespace/.local/lib/python3.10/site-packages (from requests->transformers) (2023.7.22)\n"
     ]
    }
   ],
   "source": [
    "!pip install nltk\n",
    "!pip install keras\n",
    "!pip install tensorflow\n",
    "!pip install tensorflow_hub\n",
    "!pip install transformers"
   ]
  },
  {
   "cell_type": "code",
   "execution_count": 3,
   "metadata": {},
   "outputs": [],
   "source": [
    "import pandas as pd\n",
    "import numpy as np\n",
    "import tensorflow as tf\n",
    "import matplotlib.pyplot as plt\n",
    "import seaborn as sns\n",
    "import os\n",
    "import re\n",
    "import nltk\n",
    "from nltk.corpus import stopwords\n",
    "from nltk.stem import WordNetLemmatizer\n",
    "from nltk.tokenize import word_tokenize\n",
    "from nltk.tokenize import RegexpTokenizer\n",
    "from nltk.stem import PorterStemmer\n",
    "from nltk.stem import LancasterStemmer\n",
    "from nltk.stem import SnowballStemmer\n",
    "from sklearn.feature_extraction.text import CountVectorizer\n",
    "from sklearn.feature_extraction.text import TfidfVectorizer\n",
    "from sklearn.model_selection import train_test_split\n",
    "from collections import Counter\n",
    "from sklearn.metrics import confusion_matrix\n",
    "from sklearn.metrics import accuracy_score\n",
    "from sklearn.metrics import classification_report\n",
    "from sklearn.metrics import roc_auc_score\n",
    "from sklearn.metrics import roc_curve\n",
    "from sklearn.metrics import auc\n",
    "from sklearn.metrics import precision_recall_curve\n",
    "from sklearn.metrics import average_precision_score\n",
    "from sklearn.metrics import f1_score\n",
    "from sklearn.metrics import precision_score\n",
    "from sklearn.metrics import recall_score\n",
    "from sklearn.metrics import log_loss\n"
   ]
  },
  {
   "cell_type": "code",
   "execution_count": 4,
   "metadata": {},
   "outputs": [
    {
     "data": {
      "text/html": [
       "<div>\n",
       "<style scoped>\n",
       "    .dataframe tbody tr th:only-of-type {\n",
       "        vertical-align: middle;\n",
       "    }\n",
       "\n",
       "    .dataframe tbody tr th {\n",
       "        vertical-align: top;\n",
       "    }\n",
       "\n",
       "    .dataframe thead th {\n",
       "        text-align: right;\n",
       "    }\n",
       "</style>\n",
       "<table border=\"1\" class=\"dataframe\">\n",
       "  <thead>\n",
       "    <tr style=\"text-align: right;\">\n",
       "      <th></th>\n",
       "      <th>INDEX</th>\n",
       "      <th>HATE_SPEECH</th>\n",
       "      <th>COUNTER_NARRATIVE</th>\n",
       "      <th>TARGET</th>\n",
       "      <th>VERSION</th>\n",
       "    </tr>\n",
       "  </thead>\n",
       "  <tbody>\n",
       "    <tr>\n",
       "      <th>0</th>\n",
       "      <td>0</td>\n",
       "      <td>Maybe the UN could talk to those asian and afr...</td>\n",
       "      <td>You're right, ocean pollution is one of the ma...</td>\n",
       "      <td>other</td>\n",
       "      <td>V1</td>\n",
       "    </tr>\n",
       "    <tr>\n",
       "      <th>1</th>\n",
       "      <td>1</td>\n",
       "      <td>‘Juice (Jews) are worse that nukes.’ Caption t...</td>\n",
       "      <td>You'd rather be nuked then?</td>\n",
       "      <td>JEWS</td>\n",
       "      <td>V1</td>\n",
       "    </tr>\n",
       "    <tr>\n",
       "      <th>2</th>\n",
       "      <td>2</td>\n",
       "      <td>Foreigners on UK benefits leaps 41% in 5 years...</td>\n",
       "      <td>You seem to be worried about government expend...</td>\n",
       "      <td>MIGRANTS</td>\n",
       "      <td>V1</td>\n",
       "    </tr>\n",
       "    <tr>\n",
       "      <th>3</th>\n",
       "      <td>3</td>\n",
       "      <td>Jews cannot be patriots, since their allegianc...</td>\n",
       "      <td>You can have parents and grandparents born els...</td>\n",
       "      <td>JEWS</td>\n",
       "      <td>V1</td>\n",
       "    </tr>\n",
       "    <tr>\n",
       "      <th>4</th>\n",
       "      <td>4</td>\n",
       "      <td>Israel, Zionism and Jewish Supremacist control...</td>\n",
       "      <td>Wouldn't you say its colonialism from many dif...</td>\n",
       "      <td>JEWS</td>\n",
       "      <td>V1</td>\n",
       "    </tr>\n",
       "  </tbody>\n",
       "</table>\n",
       "</div>"
      ],
      "text/plain": [
       "   INDEX                                        HATE_SPEECH  \\\n",
       "0      0  Maybe the UN could talk to those asian and afr...   \n",
       "1      1  ‘Juice (Jews) are worse that nukes.’ Caption t...   \n",
       "2      2  Foreigners on UK benefits leaps 41% in 5 years...   \n",
       "3      3  Jews cannot be patriots, since their allegianc...   \n",
       "4      4  Israel, Zionism and Jewish Supremacist control...   \n",
       "\n",
       "                                   COUNTER_NARRATIVE    TARGET VERSION  \n",
       "0  You're right, ocean pollution is one of the ma...     other      V1  \n",
       "1                        You'd rather be nuked then?      JEWS      V1  \n",
       "2  You seem to be worried about government expend...  MIGRANTS      V1  \n",
       "3  You can have parents and grandparents born els...      JEWS      V1  \n",
       "4  Wouldn't you say its colonialism from many dif...      JEWS      V1  "
      ]
     },
     "execution_count": 4,
     "metadata": {},
     "output_type": "execute_result"
    }
   ],
   "source": [
    " # Load your dataset from the DataFrame\n",
    "df = pd.read_csv('/workspaces/CONAN/Multitarget-CONAN/Multitarget-CONAN.csv')\n",
    "df.head()"
   ]
  },
  {
   "cell_type": "code",
   "execution_count": 5,
   "metadata": {},
   "outputs": [
    {
     "data": {
      "text/plain": [
       "8"
      ]
     },
     "execution_count": 5,
     "metadata": {},
     "output_type": "execute_result"
    }
   ],
   "source": [
    "# Configure the TextVectorization layer\n",
    "max_features = 10000\n",
    "sequence_length = 250\n",
    "\n",
    "vectorize_layer = tf.keras.layers.TextVectorization(\n",
    "    max_tokens=max_features,\n",
    "    output_mode='int',\n",
    "    output_sequence_length=sequence_length)\n",
    "\n",
    "# Fit the TextVectorization layer on 'hateSpeech'\n",
    "vectorize_layer.adapt(df['HATE_SPEECH'])\n",
    "\n",
    "# Create a label mapping for 'hsSubType'\n",
    "label_mapping = {subtype: label for label, subtype in enumerate(df['TARGET'].unique())}\n",
    "num_classes = len(label_mapping)\n",
    "len(label_mapping)\n"
   ]
  },
  {
   "cell_type": "code",
   "execution_count": 6,
   "metadata": {},
   "outputs": [
    {
     "name": "stdout",
     "output_type": "stream",
     "text": [
      "text_batch shape: (16, 250)\n",
      "label_batch shape: (16,)\n"
     ]
    },
    {
     "name": "stderr",
     "output_type": "stream",
     "text": [
      "2023-10-12 22:43:44.897529: W tensorflow/core/kernels/data/cache_dataset_ops.cc:854] The calling iterator did not fully read the dataset being cached. In order to avoid unexpected truncation of the dataset, the partially cached contents of the dataset  will be discarded. This can happen if you have an input pipeline similar to `dataset.cache().take(k).repeat()`. You should use `dataset.take(k).cache().repeat()` instead.\n"
     ]
    }
   ],
   "source": [
    "batch_size = 16\n",
    "# Define a function to vectorize the text and return the labels\n",
    "def vectorize_text(text, label):\n",
    "    #text = tf.expand_dims(text, -1)\n",
    "    return vectorize_layer(text), label\n",
    "\n",
    "# Map 'hsSubType' to integer labels\n",
    "df['label'] = df['TARGET'].map(label_mapping)\n",
    "# Split the data into training (80%) and the remaining (20%)\n",
    "train_df, remaining_df = train_test_split(df, test_size=0.2, random_state=42)\n",
    "\n",
    "# Create a TensorFlow dataset for training\n",
    "raw_train_ds = tf.data.Dataset.from_tensor_slices((train_df['HATE_SPEECH'], train_df['label']))\n",
    "train_ds = raw_train_ds.map(vectorize_text)\n",
    "#train_ds = raw_train_ds.map(vectorize_text).cache().prefetch(buffer_size=tf.data.AUTOTUNE)\n",
    "train_ds = train_ds.batch(batch_size).cache().prefetch(buffer_size=tf.data.AUTOTUNE)\n",
    "\n",
    "# Further split the remaining data into validation (10%) and test (10%)\n",
    "val_df, test_df = train_test_split(remaining_df, test_size=0.5, random_state=42)\n",
    "\n",
    "# Create a TensorFlow dataset for validation\n",
    "raw_val_ds = tf.data.Dataset.from_tensor_slices((val_df['HATE_SPEECH'], val_df['label']))\n",
    "val_ds = raw_val_ds.map(vectorize_text)\n",
    "#val_ds = raw_val_ds.map(vectorize_text).cache().prefetch(buffer_size=tf.data.AUTOTUNE)\n",
    "val_ds = val_ds.batch(batch_size).cache().prefetch(buffer_size=tf.data.AUTOTUNE)\n",
    "\n",
    "# Create a TensorFlow dataset for testing\n",
    "raw_test_ds = tf.data.Dataset.from_tensor_slices((test_df['HATE_SPEECH'], test_df['label']))\n",
    "test_ds = raw_test_ds.map(vectorize_text)\n",
    "test_ds = test_ds.batch(batch_size).cache().prefetch(buffer_size=tf.data.AUTOTUNE)\n",
    "\n",
    "#Check the dataset shapes: Print the shapes of the batches in train_ds and val_ds using a loop to ensure they match the expected shapes.\n",
    "for text_batch, label_batch in train_ds.take(1):\n",
    "    print('text_batch shape:', text_batch.shape)\n",
    "    print('label_batch shape:', label_batch.shape)\n",
    "    "
   ]
  },
  {
   "cell_type": "code",
   "execution_count": 7,
   "metadata": {},
   "outputs": [
    {
     "name": "stdout",
     "output_type": "stream",
     "text": [
      "{'other': 0, 'JEWS': 1, 'MIGRANTS': 2, 'WOMEN': 3, 'POC': 4, 'LGBT+': 5, 'MUSLIMS': 6, 'DISABLED': 7}\n"
     ]
    }
   ],
   "source": [
    "#print the mapping\n",
    "print(label_mapping)"
   ]
  },
  {
   "cell_type": "code",
   "execution_count": 8,
   "metadata": {},
   "outputs": [
    {
     "name": "stdout",
     "output_type": "stream",
     "text": [
      "1287 --->  wont\n",
      " 313 --->  coexist\n",
      "Vocabulary size: 3829\n",
      "Number of classes: 8\n",
      "Label 0 corresponds to other\n",
      "Label 1 corresponds to JEWS\n"
     ]
    }
   ],
   "source": [
    "print(\"1287 ---> \",vectorize_layer.get_vocabulary()[1287])\n",
    "print(\" 313 ---> \",vectorize_layer.get_vocabulary()[313])\n",
    "print('Vocabulary size: {}'.format(len(vectorize_layer.get_vocabulary())))\n",
    "print('Number of classes: {}'.format(num_classes))\n",
    "\n",
    "# Reverse the numerical mapping to get 'hsSubType' from label\n",
    "reverse_mapping = {v: k for k, v in label_mapping.items()}\n",
    "print(\"Label 0 corresponds to\", reverse_mapping[0])\n",
    "print(\"Label 1 corresponds to\", reverse_mapping[1])"
   ]
  },
  {
   "cell_type": "code",
   "execution_count": 9,
   "metadata": {},
   "outputs": [
    {
     "data": {
      "text/plain": [
       "<Axes: ylabel='label'>"
      ]
     },
     "execution_count": 9,
     "metadata": {},
     "output_type": "execute_result"
    },
    {
     "data": {
      "image/png": "[encoded data removed]",
      "text/plain": [
       "<Figure size 640x480 with 1 Axes>"
      ]
     },
     "metadata": {},
     "output_type": "display_data"
    }
   ],
   "source": [
    "df['label'].value_counts().plot(kind='barh')"
   ]
  },
  {
   "cell_type": "code",
   "execution_count": 10,
   "metadata": {},
   "outputs": [
    {
     "name": "stdout",
     "output_type": "stream",
     "text": [
      "text_batch shape: (16, 250)\n",
      "label_batch shape: (16,)\n"
     ]
    },
    {
     "name": "stderr",
     "output_type": "stream",
     "text": [
      "2023-10-12 22:43:45.211344: W tensorflow/core/kernels/data/cache_dataset_ops.cc:854] The calling iterator did not fully read the dataset being cached. In order to avoid unexpected truncation of the dataset, the partially cached contents of the dataset  will be discarded. This can happen if you have an input pipeline similar to `dataset.cache().take(k).repeat()`. You should use `dataset.take(k).cache().repeat()` instead.\n",
      "2023-10-12 22:43:45.211410: W tensorflow/core/kernels/data/cache_dataset_ops.cc:854] The calling iterator did not fully read the dataset being cached. In order to avoid unexpected truncation of the dataset, the partially cached contents of the dataset  will be discarded. This can happen if you have an input pipeline similar to `dataset.cache().take(k).repeat()`. You should use `dataset.take(k).cache().repeat()` instead.\n"
     ]
    }
   ],
   "source": [
    "AUTOTUNE = tf.data.AUTOTUNE\n",
    "\n",
    "train_ds = train_ds.cache().prefetch(buffer_size=AUTOTUNE)\n",
    "val_ds = val_ds.cache().prefetch(buffer_size=AUTOTUNE)\n",
    "test_ds = test_ds.cache().prefetch(buffer_size=AUTOTUNE)\n",
    "\n",
    "for text_batch, label_batch in train_ds.take(1):\n",
    "    print('text_batch shape:', text_batch.shape)\n",
    "    print('label_batch shape:', label_batch.shape)\n",
    "    "
   ]
  },
  {
   "cell_type": "code",
   "execution_count": 19,
   "metadata": {},
   "outputs": [
    {
     "name": "stdout",
     "output_type": "stream",
     "text": [
      "Epoch 1/60\n"
     ]
    },
    {
     "name": "stderr",
     "output_type": "stream",
     "text": [
      "/home/codespace/.python/current/lib/python3.10/site-packages/keras/src/backend.py:5729: UserWarning: \"`sparse_categorical_crossentropy` received `from_logits=True`, but the `output` argument was produced by a Softmax activation and thus does not represent logits. Was this intended?\n",
      "  output, from_logits = _get_logits(\n"
     ]
    },
    {
     "name": "stdout",
     "output_type": "stream",
     "text": [
      "251/251 [==============================] - 1s 2ms/step - loss: 12.1246 - accuracy: 0.1707 - val_loss: 2.7467 - val_accuracy: 0.1740\n",
      "Epoch 2/60\n",
      "251/251 [==============================] - 0s 1ms/step - loss: 2.2504 - accuracy: 0.1834 - val_loss: 2.1100 - val_accuracy: 0.1720\n",
      "Epoch 3/60\n",
      "251/251 [==============================] - 0s 1ms/step - loss: 2.0053 - accuracy: 0.2009 - val_loss: 2.0483 - val_accuracy: 0.2920\n",
      "Epoch 4/60\n",
      "251/251 [==============================] - 0s 2ms/step - loss: 1.9607 - accuracy: 0.2676 - val_loss: 2.0067 - val_accuracy: 0.2940\n",
      "Epoch 5/60\n",
      "251/251 [==============================] - 0s 1ms/step - loss: 1.9407 - accuracy: 0.2676 - val_loss: 1.9952 - val_accuracy: 0.2960\n",
      "Epoch 6/60\n",
      "251/251 [==============================] - 0s 1ms/step - loss: 1.9312 - accuracy: 0.2689 - val_loss: 1.9946 - val_accuracy: 0.2960\n",
      "Epoch 7/60\n",
      "251/251 [==============================] - 0s 1ms/step - loss: 1.9243 - accuracy: 0.2681 - val_loss: 2.0167 - val_accuracy: 0.2960\n",
      "Epoch 8/60\n",
      "251/251 [==============================] - 0s 1ms/step - loss: 1.9213 - accuracy: 0.2699 - val_loss: 1.9788 - val_accuracy: 0.2980\n",
      "Epoch 9/60\n",
      "251/251 [==============================] - 0s 1ms/step - loss: 1.9179 - accuracy: 0.2701 - val_loss: 1.9849 - val_accuracy: 0.2980\n",
      "Epoch 10/60\n",
      "251/251 [==============================] - 0s 1ms/step - loss: 1.9156 - accuracy: 0.2696 - val_loss: 1.9949 - val_accuracy: 0.2980\n",
      "Epoch 11/60\n",
      "251/251 [==============================] - 0s 1ms/step - loss: 1.9248 - accuracy: 0.2681 - val_loss: 1.9762 - val_accuracy: 0.2960\n",
      "Epoch 12/60\n",
      "251/251 [==============================] - 0s 1ms/step - loss: 1.9210 - accuracy: 0.2684 - val_loss: 1.9753 - val_accuracy: 0.2960\n",
      "Epoch 13/60\n",
      "251/251 [==============================] - 0s 1ms/step - loss: 1.9194 - accuracy: 0.2694 - val_loss: 2.0162 - val_accuracy: 0.2960\n",
      "Epoch 14/60\n",
      "251/251 [==============================] - 0s 1ms/step - loss: 1.9169 - accuracy: 0.2694 - val_loss: 2.0162 - val_accuracy: 0.2940\n",
      "Epoch 15/60\n",
      "251/251 [==============================] - 0s 2ms/step - loss: 1.9213 - accuracy: 0.2694 - val_loss: 1.9927 - val_accuracy: 0.2960\n",
      "Epoch 16/60\n",
      "251/251 [==============================] - 0s 2ms/step - loss: 1.9192 - accuracy: 0.2689 - val_loss: 1.9566 - val_accuracy: 0.2980\n",
      "Epoch 17/60\n",
      "251/251 [==============================] - 0s 1ms/step - loss: 1.9435 - accuracy: 0.2676 - val_loss: 1.9534 - val_accuracy: 0.2960\n",
      "Epoch 18/60\n",
      "251/251 [==============================] - 0s 1ms/step - loss: 1.9185 - accuracy: 0.2691 - val_loss: 1.9600 - val_accuracy: 0.2940\n",
      "Epoch 19/60\n",
      "251/251 [==============================] - 0s 1ms/step - loss: 1.9179 - accuracy: 0.2679 - val_loss: 1.9476 - val_accuracy: 0.2940\n",
      "Epoch 20/60\n",
      "251/251 [==============================] - 0s 1ms/step - loss: 1.9162 - accuracy: 0.2686 - val_loss: 1.9801 - val_accuracy: 0.2940\n",
      "Epoch 21/60\n",
      "251/251 [==============================] - 0s 1ms/step - loss: 1.9162 - accuracy: 0.2694 - val_loss: 1.9339 - val_accuracy: 0.2940\n",
      "Epoch 22/60\n",
      "251/251 [==============================] - 0s 1ms/step - loss: 1.9163 - accuracy: 0.2694 - val_loss: 1.9886 - val_accuracy: 0.2960\n",
      "Epoch 23/60\n",
      "251/251 [==============================] - 0s 1ms/step - loss: 1.9174 - accuracy: 0.2691 - val_loss: 1.9550 - val_accuracy: 0.2940\n",
      "Epoch 24/60\n",
      "251/251 [==============================] - 0s 1ms/step - loss: 1.9187 - accuracy: 0.2684 - val_loss: 1.9618 - val_accuracy: 0.2960\n",
      "Epoch 25/60\n",
      "251/251 [==============================] - 0s 1ms/step - loss: 1.9201 - accuracy: 0.2686 - val_loss: 1.9204 - val_accuracy: 0.2960\n",
      "Epoch 26/60\n",
      "251/251 [==============================] - 0s 1ms/step - loss: 1.9157 - accuracy: 0.2686 - val_loss: 1.9381 - val_accuracy: 0.2960\n",
      "Epoch 27/60\n",
      "251/251 [==============================] - 0s 1ms/step - loss: 1.9178 - accuracy: 0.2694 - val_loss: 1.9263 - val_accuracy: 0.2940\n",
      "Epoch 28/60\n",
      "251/251 [==============================] - 0s 2ms/step - loss: 1.9226 - accuracy: 0.2666 - val_loss: 1.9235 - val_accuracy: 0.2960\n",
      "Epoch 29/60\n",
      "251/251 [==============================] - 0s 1ms/step - loss: 1.9208 - accuracy: 0.2674 - val_loss: 1.9205 - val_accuracy: 0.2960\n",
      "Epoch 30/60\n",
      "251/251 [==============================] - 0s 1ms/step - loss: 1.9170 - accuracy: 0.2679 - val_loss: 1.9183 - val_accuracy: 0.2960\n",
      "Epoch 31/60\n",
      "251/251 [==============================] - 0s 1ms/step - loss: 1.9196 - accuracy: 0.2679 - val_loss: 1.9113 - val_accuracy: 0.2960\n",
      "Epoch 32/60\n",
      "251/251 [==============================] - 0s 1ms/step - loss: 1.9192 - accuracy: 0.2721 - val_loss: 1.9296 - val_accuracy: 0.2900\n",
      "Epoch 33/60\n",
      "251/251 [==============================] - 0s 1ms/step - loss: 1.9212 - accuracy: 0.2826 - val_loss: 1.9217 - val_accuracy: 0.2840\n",
      "Epoch 34/60\n",
      "251/251 [==============================] - 0s 1ms/step - loss: 1.9289 - accuracy: 0.2679 - val_loss: 1.9232 - val_accuracy: 0.2740\n",
      "Epoch 35/60\n",
      "251/251 [==============================] - 0s 1ms/step - loss: 1.9250 - accuracy: 0.2664 - val_loss: 1.9191 - val_accuracy: 0.2780\n",
      "Epoch 36/60\n",
      "251/251 [==============================] - 0s 1ms/step - loss: 1.9187 - accuracy: 0.2654 - val_loss: 1.9144 - val_accuracy: 0.2680\n",
      "Epoch 37/60\n",
      "251/251 [==============================] - 0s 1ms/step - loss: 1.9163 - accuracy: 0.2661 - val_loss: 1.9149 - val_accuracy: 0.2740\n",
      "Epoch 38/60\n",
      "251/251 [==============================] - 0s 1ms/step - loss: 1.9176 - accuracy: 0.2691 - val_loss: 1.9190 - val_accuracy: 0.2780\n",
      "Epoch 39/60\n",
      "251/251 [==============================] - 0s 1ms/step - loss: 1.9139 - accuracy: 0.2696 - val_loss: 1.9216 - val_accuracy: 0.2720\n",
      "Epoch 40/60\n",
      "251/251 [==============================] - 0s 2ms/step - loss: 1.9119 - accuracy: 0.2694 - val_loss: 1.9340 - val_accuracy: 0.2760\n",
      "Epoch 41/60\n",
      "251/251 [==============================] - 0s 1ms/step - loss: 1.9150 - accuracy: 0.2709 - val_loss: 1.9282 - val_accuracy: 0.3000\n",
      "Epoch 42/60\n",
      "251/251 [==============================] - 0s 2ms/step - loss: 1.9163 - accuracy: 0.2774 - val_loss: 1.9039 - val_accuracy: 0.3040\n",
      "Epoch 43/60\n",
      "251/251 [==============================] - 0s 1ms/step - loss: 1.9112 - accuracy: 0.2861 - val_loss: 1.9044 - val_accuracy: 0.3040\n",
      "Epoch 44/60\n",
      "251/251 [==============================] - 0s 1ms/step - loss: 1.9080 - accuracy: 0.2854 - val_loss: 1.9012 - val_accuracy: 0.3120\n",
      "Epoch 45/60\n",
      "251/251 [==============================] - 0s 1ms/step - loss: 1.9065 - accuracy: 0.2986 - val_loss: 1.9106 - val_accuracy: 0.3060\n",
      "Epoch 46/60\n",
      "251/251 [==============================] - 0s 1ms/step - loss: 1.9060 - accuracy: 0.2991 - val_loss: 1.8999 - val_accuracy: 0.3060\n",
      "Epoch 47/60\n",
      "251/251 [==============================] - 0s 1ms/step - loss: 1.8996 - accuracy: 0.3003 - val_loss: 1.8905 - val_accuracy: 0.3240\n",
      "Epoch 48/60\n",
      "251/251 [==============================] - 0s 1ms/step - loss: 1.9022 - accuracy: 0.3036 - val_loss: 1.9096 - val_accuracy: 0.3100\n",
      "Epoch 49/60\n",
      "251/251 [==============================] - 0s 1ms/step - loss: 1.9016 - accuracy: 0.3018 - val_loss: 1.8994 - val_accuracy: 0.3040\n",
      "Epoch 50/60\n",
      "251/251 [==============================] - 0s 1ms/step - loss: 1.8975 - accuracy: 0.3056 - val_loss: 1.9171 - val_accuracy: 0.2920\n",
      "Epoch 51/60\n",
      "251/251 [==============================] - 0s 1ms/step - loss: 1.8930 - accuracy: 0.3031 - val_loss: 1.8864 - val_accuracy: 0.3220\n",
      "Epoch 52/60\n",
      "251/251 [==============================] - 0s 2ms/step - loss: 1.8889 - accuracy: 0.3138 - val_loss: 1.8832 - val_accuracy: 0.3180\n",
      "Epoch 53/60\n",
      "251/251 [==============================] - 0s 1ms/step - loss: 1.8824 - accuracy: 0.3166 - val_loss: 1.8799 - val_accuracy: 0.3240\n",
      "Epoch 54/60\n",
      "251/251 [==============================] - 0s 1ms/step - loss: 1.8809 - accuracy: 0.3196 - val_loss: 1.8865 - val_accuracy: 0.3220\n",
      "Epoch 55/60\n",
      "251/251 [==============================] - 0s 1ms/step - loss: 1.8773 - accuracy: 0.3161 - val_loss: 1.8831 - val_accuracy: 0.3200\n",
      "Epoch 56/60\n",
      "251/251 [==============================] - 0s 1ms/step - loss: 1.8820 - accuracy: 0.3168 - val_loss: 1.8911 - val_accuracy: 0.3140\n",
      "Epoch 57/60\n",
      "251/251 [==============================] - 0s 1ms/step - loss: 1.8860 - accuracy: 0.3156 - val_loss: 1.8824 - val_accuracy: 0.3180\n",
      "Epoch 58/60\n",
      "251/251 [==============================] - 0s 1ms/step - loss: 1.8747 - accuracy: 0.3178 - val_loss: 1.8949 - val_accuracy: 0.3020\n",
      "Epoch 59/60\n",
      "251/251 [==============================] - 0s 1ms/step - loss: 1.8748 - accuracy: 0.3196 - val_loss: 1.8793 - val_accuracy: 0.3220\n",
      "Epoch 60/60\n",
      "251/251 [==============================] - 0s 1ms/step - loss: 1.8768 - accuracy: 0.3196 - val_loss: 1.8786 - val_accuracy: 0.3180\n",
      "Test loss: 1.894302248954773 / Test accuracy: 0.3013972043991089\n"
     ]
    }
   ],
   "source": [
    "# Imports\n",
    "from sklearn.model_selection import train_test_split\n",
    "from tensorflow.keras.models import Sequential\n",
    "from tensorflow.keras.layers import Dense\n",
    "from tensorflow.keras.losses import SparseCategoricalCrossentropy\n",
    "from tensorflow.keras.optimizers import Adam\n",
    "\n",
    "\n",
    "n_features = 250\n",
    "epochs = 60\n",
    "num_classes = 8\n",
    "\n",
    "# Create the model\n",
    "model = Sequential()\n",
    "model.add(Dense(32, activation='relu', input_dim=n_features))\n",
    "model.add(Dense(16, activation='relu'))\n",
    "model.add(Dense(8, activation='relu'))\n",
    "model.add(Dense(num_classes, activation='softmax'))  # Use softmax for multi-class classification\n",
    "\n",
    "# Compile the model\n",
    "model.compile(loss=SparseCategoricalCrossentropy(from_logits=True),\n",
    "              optimizer=Adam(),\n",
    "              metrics=['accuracy'])\n",
    "\n",
    "# Fit data to the model\n",
    "history = model.fit(train_ds,  # Use your training dataset\n",
    "          validation_data=val_ds,  # Use your validation dataset\n",
    "          epochs=epochs,  # Use the number of epochs you've defined\n",
    "          verbose=1)\n",
    "\n",
    "# Generate generalization metrics\n",
    "score = model.evaluate(test_ds, verbose=0)  # Use your test dataset\n",
    "print(f'Test loss: {score[0]} / Test accuracy: {score[1]}')\n",
    "\n"
   ]
  },
  {
   "cell_type": "code",
   "execution_count": 20,
   "metadata": {},
   "outputs": [
    {
     "name": "stdout",
     "output_type": "stream",
     "text": [
      "32/32 [==============================] - 0s 1ms/step - loss: 1.8943 - accuracy: 0.3014\n",
      "Loss:  1.894302248954773\n",
      "Accuracy:  0.3013972043991089\n"
     ]
    },
    {
     "data": {
      "text/plain": [
       "dict_keys(['loss', 'accuracy', 'val_loss', 'val_accuracy'])"
      ]
     },
     "execution_count": 20,
     "metadata": {},
     "output_type": "execute_result"
    }
   ],
   "source": [
    "loss, accuracy = model.evaluate(test_ds)\n",
    "\n",
    "print(\"Loss: \", loss)\n",
    "print(\"Accuracy: \", accuracy)\n",
    "history_dict = history.history\n",
    "history_dict.keys()"
   ]
  },
  {
   "cell_type": "code",
   "execution_count": 21,
   "metadata": {},
   "outputs": [
    {
     "data": {
      "image/png": "[encoded data removed]",
      "text/plain": [
       "<Figure size 640x480 with 1 Axes>"
      ]
     },
     "metadata": {},
     "output_type": "display_data"
    }
   ],
   "source": [
    "accuracy = history_dict['accuracy']\n",
    "val_acc = history_dict['val_accuracy']\n",
    "loss = history_dict['loss']\n",
    "val_loss = history_dict['val_loss']\n",
    "\n",
    "epochs = range(1, len(accuracy) + 1)\n",
    "\n",
    "# \"bo\" is for \"blue dot\"\n",
    "plt.plot(epochs, loss, 'g', label='Training loss')\n",
    "# b is for \"solid blue line\"\n",
    "plt.plot(epochs, val_loss, 'b', label='Validation loss')\n",
    "plt.title('Training and validation loss')\n",
    "plt.xlabel('Epochs')\n",
    "plt.ylabel('Loss')\n",
    "plt.legend()\n",
    "\n",
    "plt.show()"
   ]
  },
  {
   "cell_type": "code",
   "execution_count": 22,
   "metadata": {},
   "outputs": [
    {
     "data": {
      "image/png": "[encoded data removed]",
      "text/plain": [
       "<Figure size 640x480 with 1 Axes>"
      ]
     },
     "metadata": {},
     "output_type": "display_data"
    }
   ],
   "source": [
    "plt.plot(epochs, accuracy, 'g', label='Training acc')\n",
    "plt.plot(epochs, val_acc, 'b', label='Validation acc')\n",
    "plt.title('Training and validation accuracy')\n",
    "plt.xlabel('Epochs')\n",
    "plt.ylabel('Accuracy')\n",
    "plt.legend(loc='lower right')\n",
    "\n",
    "plt.show()"
   ]
  },
  {
   "cell_type": "code",
   "execution_count": 23,
   "metadata": {},
   "outputs": [
    {
     "name": "stdout",
     "output_type": "stream",
     "text": [
      "INFO:tensorflow:Assets written to: my_trained_model_MULTITARGET_CONAN/assets\n"
     ]
    },
    {
     "name": "stderr",
     "output_type": "stream",
     "text": [
      "INFO:tensorflow:Assets written to: my_trained_model_MULTITARGET_CONAN/assets\n"
     ]
    }
   ],
   "source": [
    "# Save the model\n",
    "model.save(\"my_trained_model_MULTITARGET_CONAN\")\n"
   ]
  },
  {
   "cell_type": "code",
   "execution_count": 24,
   "metadata": {},
   "outputs": [],
   "source": [
    "# Load the saved model\n",
    "loaded_model = tf.keras.models.load_model(\"my_trained_model_MULTITARGET_CONAN\")\n"
   ]
  },
  {
   "cell_type": "code",
   "execution_count": 32,
   "metadata": {},
   "outputs": [
    {
     "name": "stdout",
     "output_type": "stream",
     "text": [
      "1/1 [==============================] - 0s 13ms/step\n"
     ]
    },
    {
     "name": "stdout",
     "output_type": "stream",
     "text": [
      "[[0.06080714 0.07655093 0.19474521 0.03877131 0.09285758 0.36922383\n",
      "  0.08178307 0.08526094]]\n",
      "Predicted Class: LGBT+\n",
      "{'other': 0, 'JEWS': 1, 'MIGRANTS': 2, 'WOMEN': 3, 'POC': 4, 'LGBT+': 5, 'MUSLIMS': 6, 'DISABLED': 7}\n"
     ]
    }
   ],
   "source": [
    "input_sentence = \"color\"\n",
    "\n",
    "# Vectorize the sentence\n",
    "vectorized_sentence = vectorize_layer([input_sentence])\n",
    "\n",
    "# Make predictions\n",
    "predictions = loaded_model.predict(vectorized_sentence)\n",
    "print(predictions)\n",
    "\n",
    "predicted_class = np.argmax(predictions)\n",
    "# Reverse the numerical mapping to get 'hsSubType' from label\n",
    "reverse_mapping = {v: k for k, v in label_mapping.items()}\n",
    "print(\"Predicted Class:\", reverse_mapping[predicted_class])\n",
    "print(label_mapping)"
   ]
  },
  {
   "cell_type": "code",
   "execution_count": null,
   "metadata": {},
   "outputs": [],
   "source": []
  }
 ],
 "metadata": {
  "kernelspec": {
   "display_name": "Python 3",
   "language": "python",
   "name": "python3"
  },
  "language_info": {
   "codemirror_mode": {
    "name": "ipython",
    "version": 3
   },
   "file_extension": ".py",
   "mimetype": "text/x-python",
   "name": "python",
   "nbconvert_exporter": "python",
   "pygments_lexer": "ipython3",
   "version": "3.10.8"
  }
 },
 "nbformat": 4,
 "nbformat_minor": 2
}
